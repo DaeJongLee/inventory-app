{
 "cells": [
  {
   "cell_type": "code",
   "execution_count": 5,
   "metadata": {},
   "outputs": [
    {
     "data": {
      "text/html": [
       "<div>\n",
       "<style scoped>\n",
       "    .dataframe tbody tr th:only-of-type {\n",
       "        vertical-align: middle;\n",
       "    }\n",
       "\n",
       "    .dataframe tbody tr th {\n",
       "        vertical-align: top;\n",
       "    }\n",
       "\n",
       "    .dataframe thead th {\n",
       "        text-align: right;\n",
       "    }\n",
       "</style>\n",
       "<table border=\"1\" class=\"dataframe\">\n",
       "  <thead>\n",
       "    <tr style=\"text-align: right;\">\n",
       "      <th></th>\n",
       "      <th>name</th>\n",
       "      <th>location</th>\n",
       "    </tr>\n",
       "  </thead>\n",
       "  <tbody>\n",
       "    <tr>\n",
       "      <th>0</th>\n",
       "      <td>용각산 쿨 민트</td>\n",
       "      <td>{'main': '조제실', 'sub': 'L', 'final': 'LA'}</td>\n",
       "    </tr>\n",
       "    <tr>\n",
       "      <th>1</th>\n",
       "      <td>용각산 쿨 복숭아</td>\n",
       "      <td>{'main': '조제실', 'sub': 'L', 'final': 'LA'}</td>\n",
       "    </tr>\n",
       "    <tr>\n",
       "      <th>2</th>\n",
       "      <td>에세푸릴</td>\n",
       "      <td>{'main': '조제실', 'sub': 'L', 'final': 'LB'}</td>\n",
       "    </tr>\n",
       "  </tbody>\n",
       "</table>\n",
       "</div>"
      ],
      "text/plain": [
       "        name                                    location\n",
       "0   용각산 쿨 민트  {'main': '조제실', 'sub': 'L', 'final': 'LA'}\n",
       "1  용각산 쿨 복숭아  {'main': '조제실', 'sub': 'L', 'final': 'LA'}\n",
       "2       에세푸릴  {'main': '조제실', 'sub': 'L', 'final': 'LB'}"
      ]
     },
     "execution_count": 5,
     "metadata": {},
     "output_type": "execute_result"
    }
   ],
   "source": [
    "import pandas as pd\n",
    "\n",
    "# JSON 파일을 읽어 데이터프레임 생성\n",
    "df = pd.read_json(\"inventory_data.json\")\n",
    "\n",
    "# 'location' 열에서 'main', 'sub', 'final' 키의 값을 추출하여 새로운 열을 생성\n",
    "df['main'] = df['location'].apply(lambda x: x['main'])\n",
    "df['sub'] = df['location'].apply(lambda x: x['sub'])\n",
    "df['final'] = df['location'].apply(lambda x: x['final'])\n",
    "\n",
    "# 각각의 열에서 고유값을 추출\n",
    "unique_main = df['main'].unique()\n",
    "unique_sub = df['sub'].unique()\n",
    "unique_final = df['final'].unique()\n",
    "\n",
    "# 고유값 출력\n",
    "print(\"Main의 고유값:\", unique_main)\n",
    "print(\"Sub의 고유값:\", unique_sub)\n",
    "print(\"Final의 고유값:\", unique_final)\n"
   ]
  }
 ],
 "metadata": {
  "kernelspec": {
   "display_name": ".venv",
   "language": "python",
   "name": "python3"
  },
  "language_info": {
   "codemirror_mode": {
    "name": "ipython",
    "version": 3
   },
   "file_extension": ".py",
   "mimetype": "text/x-python",
   "name": "python",
   "nbconvert_exporter": "python",
   "pygments_lexer": "ipython3",
   "version": "3.12.4"
  }
 },
 "nbformat": 4,
 "nbformat_minor": 2
}
